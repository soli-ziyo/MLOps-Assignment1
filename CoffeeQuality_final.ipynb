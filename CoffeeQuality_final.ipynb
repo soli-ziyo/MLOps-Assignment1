{
  "nbformat": 4,
  "nbformat_minor": 0,
  "metadata": {
    "colab": {
      "provenance": []
    },
    "kernelspec": {
      "name": "python3",
      "display_name": "Python 3"
    },
    "language_info": {
      "name": "python"
    }
  },
  "cells": [
    {
      "cell_type": "markdown",
      "source": [
        "## 0. Pre"
      ],
      "metadata": {
        "id": "MY7gvNGHLFCa"
      }
    },
    {
      "cell_type": "code",
      "source": [
        "# 1. KaggleHub 설치 (처음 한 번만 실행)\n",
        "!pip install kagglehub\n",
        "import kagglehub\n",
        "\n",
        "import os\n",
        "\n",
        "from imblearn.over_sampling import SMOTENC\n",
        "from imblearn.over_sampling import SMOTENC\n",
        "\n",
        "import re\n",
        "\n",
        "import warnings\n",
        "\n",
        "import pandas as pd\n",
        "\n",
        "from sklearn.model_selection import cross_val_score\n",
        "from sklearn.metrics import make_scorer, accuracy_score, f1_score, precision_score, recall_score\n",
        "from sklearn.ensemble import RandomForestClassifier, GradientBoostingClassifier\n",
        "from xgboost import XGBClassifier\n",
        "from lightgbm import LGBMClassifier\n",
        "from sklearn.model_selection import GridSearchCV\n",
        "from sklearn.ensemble import RandomForestClassifier\n",
        "from sklearn.metrics import confusion_matrix, ConfusionMatrixDisplay\n",
        "from sklearn.model_selection import train_test_split\n",
        "import matplotlib.pyplot as plt"
      ],
      "metadata": {
        "colab": {
          "base_uri": "https://localhost:8080/"
        },
        "id": "13iBfLh7Km96",
        "outputId": "4b3570a2-e31f-4874-daed-aaf195c0570e"
      },
      "execution_count": 1,
      "outputs": [
        {
          "output_type": "stream",
          "name": "stdout",
          "text": [
            "Requirement already satisfied: kagglehub in /usr/local/lib/python3.11/dist-packages (0.3.12)\n",
            "Requirement already satisfied: packaging in /usr/local/lib/python3.11/dist-packages (from kagglehub) (24.2)\n",
            "Requirement already satisfied: pyyaml in /usr/local/lib/python3.11/dist-packages (from kagglehub) (6.0.2)\n",
            "Requirement already satisfied: requests in /usr/local/lib/python3.11/dist-packages (from kagglehub) (2.32.3)\n",
            "Requirement already satisfied: tqdm in /usr/local/lib/python3.11/dist-packages (from kagglehub) (4.67.1)\n",
            "Requirement already satisfied: charset-normalizer<4,>=2 in /usr/local/lib/python3.11/dist-packages (from requests->kagglehub) (3.4.1)\n",
            "Requirement already satisfied: idna<4,>=2.5 in /usr/local/lib/python3.11/dist-packages (from requests->kagglehub) (3.10)\n",
            "Requirement already satisfied: urllib3<3,>=1.21.1 in /usr/local/lib/python3.11/dist-packages (from requests->kagglehub) (2.4.0)\n",
            "Requirement already satisfied: certifi>=2017.4.17 in /usr/local/lib/python3.11/dist-packages (from requests->kagglehub) (2025.1.31)\n"
          ]
        }
      ]
    },
    {
      "cell_type": "code",
      "execution_count": 2,
      "metadata": {
        "colab": {
          "base_uri": "https://localhost:8080/"
        },
        "id": "5e4aer1YKTfF",
        "outputId": "ae264b55-af63-4610-9383-5bd65bdb8975"
      },
      "outputs": [
        {
          "output_type": "stream",
          "name": "stdout",
          "text": [
            "Downloading from https://www.kaggle.com/api/v1/datasets/download/volpatto/coffee-quality-database-from-cqi?dataset_version_number=1...\n"
          ]
        },
        {
          "output_type": "stream",
          "name": "stderr",
          "text": [
            "100%|██████████| 254k/254k [00:00<00:00, 43.0MB/s]"
          ]
        },
        {
          "output_type": "stream",
          "name": "stdout",
          "text": [
            "Extracting files...\n",
            "Path to dataset files: /root/.cache/kagglehub/datasets/volpatto/coffee-quality-database-from-cqi/versions/1\n",
            "Base path: /root/.cache/kagglehub/datasets/volpatto/coffee-quality-database-from-cqi/versions/1\n",
            "Files and folders in dataset path:\n",
            "['arabica_data_cleaned.csv', 'merged_data_cleaned.csv', 'robusta_data_cleaned.csv']\n"
          ]
        },
        {
          "output_type": "stream",
          "name": "stderr",
          "text": [
            "\n"
          ]
        }
      ],
      "source": [
        "# 다운로드\n",
        "path = kagglehub.dataset_download(\"volpatto/coffee-quality-database-from-cqi\")\n",
        "print(\"Path to dataset files:\", path)\n",
        "\n",
        "# 실제 데이터셋 다운로드 경로 확인\n",
        "print(\"Base path:\", path)\n",
        "\n",
        "# 내부 파일/폴더 리스트 출력\n",
        "print(\"Files and folders in dataset path:\")\n",
        "print(os.listdir(path))"
      ]
    },
    {
      "cell_type": "code",
      "source": [
        "df = pd.read_csv(f\"{path}/arabica_data_cleaned.csv\")\n",
        "# 미리보기\n",
        "df.head()"
      ],
      "metadata": {
        "colab": {
          "base_uri": "https://localhost:8080/",
          "height": 550
        },
        "id": "StaFf2d3KccU",
        "outputId": "2cff233f-267c-493e-c44e-1f04ac8cac12"
      },
      "execution_count": 3,
      "outputs": [
        {
          "output_type": "execute_result",
          "data": {
            "text/plain": [
              "   Unnamed: 0  Species                     Owner Country.of.Origin  \\\n",
              "0           1  Arabica                 metad plc          Ethiopia   \n",
              "1           2  Arabica                 metad plc          Ethiopia   \n",
              "2           3  Arabica  grounds for health admin         Guatemala   \n",
              "3           4  Arabica       yidnekachew dabessa          Ethiopia   \n",
              "4           5  Arabica                 metad plc          Ethiopia   \n",
              "\n",
              "                                  Farm.Name Lot.Number       Mill ICO.Number  \\\n",
              "0                                 metad plc        NaN  metad plc  2014/2015   \n",
              "1                                 metad plc        NaN  metad plc  2014/2015   \n",
              "2  san marcos barrancas \"san cristobal cuch        NaN        NaN        NaN   \n",
              "3     yidnekachew dabessa coffee plantation        NaN    wolensu        NaN   \n",
              "4                                 metad plc        NaN  metad plc  2014/2015   \n",
              "\n",
              "                                 Company       Altitude  ...  Color  \\\n",
              "0      metad agricultural developmet plc      1950-2200  ...  Green   \n",
              "1      metad agricultural developmet plc      1950-2200  ...  Green   \n",
              "2                                    NaN  1600 - 1800 m  ...    NaN   \n",
              "3  yidnekachew debessa coffee plantation      1800-2200  ...  Green   \n",
              "4      metad agricultural developmet plc      1950-2200  ...  Green   \n",
              "\n",
              "  Category.Two.Defects        Expiration                  Certification.Body  \\\n",
              "0                    0   April 3rd, 2016  METAD Agricultural Development plc   \n",
              "1                    1   April 3rd, 2016  METAD Agricultural Development plc   \n",
              "2                    0    May 31st, 2011        Specialty Coffee Association   \n",
              "3                    2  March 25th, 2016  METAD Agricultural Development plc   \n",
              "4                    2   April 3rd, 2016  METAD Agricultural Development plc   \n",
              "\n",
              "                      Certification.Address  \\\n",
              "0  309fcf77415a3661ae83e027f7e5f05dad786e44   \n",
              "1  309fcf77415a3661ae83e027f7e5f05dad786e44   \n",
              "2  36d0d00a3724338ba7937c52a378d085f2172daa   \n",
              "3  309fcf77415a3661ae83e027f7e5f05dad786e44   \n",
              "4  309fcf77415a3661ae83e027f7e5f05dad786e44   \n",
              "\n",
              "                      Certification.Contact unit_of_measurement  \\\n",
              "0  19fef5a731de2db57d16da10287413f5f99bc2dd                   m   \n",
              "1  19fef5a731de2db57d16da10287413f5f99bc2dd                   m   \n",
              "2  0878a7d4b9d35ddbf0fe2ce69a2062cceb45a660                   m   \n",
              "3  19fef5a731de2db57d16da10287413f5f99bc2dd                   m   \n",
              "4  19fef5a731de2db57d16da10287413f5f99bc2dd                   m   \n",
              "\n",
              "  altitude_low_meters altitude_high_meters altitude_mean_meters  \n",
              "0              1950.0               2200.0               2075.0  \n",
              "1              1950.0               2200.0               2075.0  \n",
              "2              1600.0               1800.0               1700.0  \n",
              "3              1800.0               2200.0               2000.0  \n",
              "4              1950.0               2200.0               2075.0  \n",
              "\n",
              "[5 rows x 44 columns]"
            ],
            "text/html": [
              "\n",
              "  <div id=\"df-077e6cc2-4441-4e2f-89a6-b1ca8d9d2b80\" class=\"colab-df-container\">\n",
              "    <div>\n",
              "<style scoped>\n",
              "    .dataframe tbody tr th:only-of-type {\n",
              "        vertical-align: middle;\n",
              "    }\n",
              "\n",
              "    .dataframe tbody tr th {\n",
              "        vertical-align: top;\n",
              "    }\n",
              "\n",
              "    .dataframe thead th {\n",
              "        text-align: right;\n",
              "    }\n",
              "</style>\n",
              "<table border=\"1\" class=\"dataframe\">\n",
              "  <thead>\n",
              "    <tr style=\"text-align: right;\">\n",
              "      <th></th>\n",
              "      <th>Unnamed: 0</th>\n",
              "      <th>Species</th>\n",
              "      <th>Owner</th>\n",
              "      <th>Country.of.Origin</th>\n",
              "      <th>Farm.Name</th>\n",
              "      <th>Lot.Number</th>\n",
              "      <th>Mill</th>\n",
              "      <th>ICO.Number</th>\n",
              "      <th>Company</th>\n",
              "      <th>Altitude</th>\n",
              "      <th>...</th>\n",
              "      <th>Color</th>\n",
              "      <th>Category.Two.Defects</th>\n",
              "      <th>Expiration</th>\n",
              "      <th>Certification.Body</th>\n",
              "      <th>Certification.Address</th>\n",
              "      <th>Certification.Contact</th>\n",
              "      <th>unit_of_measurement</th>\n",
              "      <th>altitude_low_meters</th>\n",
              "      <th>altitude_high_meters</th>\n",
              "      <th>altitude_mean_meters</th>\n",
              "    </tr>\n",
              "  </thead>\n",
              "  <tbody>\n",
              "    <tr>\n",
              "      <th>0</th>\n",
              "      <td>1</td>\n",
              "      <td>Arabica</td>\n",
              "      <td>metad plc</td>\n",
              "      <td>Ethiopia</td>\n",
              "      <td>metad plc</td>\n",
              "      <td>NaN</td>\n",
              "      <td>metad plc</td>\n",
              "      <td>2014/2015</td>\n",
              "      <td>metad agricultural developmet plc</td>\n",
              "      <td>1950-2200</td>\n",
              "      <td>...</td>\n",
              "      <td>Green</td>\n",
              "      <td>0</td>\n",
              "      <td>April 3rd, 2016</td>\n",
              "      <td>METAD Agricultural Development plc</td>\n",
              "      <td>309fcf77415a3661ae83e027f7e5f05dad786e44</td>\n",
              "      <td>19fef5a731de2db57d16da10287413f5f99bc2dd</td>\n",
              "      <td>m</td>\n",
              "      <td>1950.0</td>\n",
              "      <td>2200.0</td>\n",
              "      <td>2075.0</td>\n",
              "    </tr>\n",
              "    <tr>\n",
              "      <th>1</th>\n",
              "      <td>2</td>\n",
              "      <td>Arabica</td>\n",
              "      <td>metad plc</td>\n",
              "      <td>Ethiopia</td>\n",
              "      <td>metad plc</td>\n",
              "      <td>NaN</td>\n",
              "      <td>metad plc</td>\n",
              "      <td>2014/2015</td>\n",
              "      <td>metad agricultural developmet plc</td>\n",
              "      <td>1950-2200</td>\n",
              "      <td>...</td>\n",
              "      <td>Green</td>\n",
              "      <td>1</td>\n",
              "      <td>April 3rd, 2016</td>\n",
              "      <td>METAD Agricultural Development plc</td>\n",
              "      <td>309fcf77415a3661ae83e027f7e5f05dad786e44</td>\n",
              "      <td>19fef5a731de2db57d16da10287413f5f99bc2dd</td>\n",
              "      <td>m</td>\n",
              "      <td>1950.0</td>\n",
              "      <td>2200.0</td>\n",
              "      <td>2075.0</td>\n",
              "    </tr>\n",
              "    <tr>\n",
              "      <th>2</th>\n",
              "      <td>3</td>\n",
              "      <td>Arabica</td>\n",
              "      <td>grounds for health admin</td>\n",
              "      <td>Guatemala</td>\n",
              "      <td>san marcos barrancas \"san cristobal cuch</td>\n",
              "      <td>NaN</td>\n",
              "      <td>NaN</td>\n",
              "      <td>NaN</td>\n",
              "      <td>NaN</td>\n",
              "      <td>1600 - 1800 m</td>\n",
              "      <td>...</td>\n",
              "      <td>NaN</td>\n",
              "      <td>0</td>\n",
              "      <td>May 31st, 2011</td>\n",
              "      <td>Specialty Coffee Association</td>\n",
              "      <td>36d0d00a3724338ba7937c52a378d085f2172daa</td>\n",
              "      <td>0878a7d4b9d35ddbf0fe2ce69a2062cceb45a660</td>\n",
              "      <td>m</td>\n",
              "      <td>1600.0</td>\n",
              "      <td>1800.0</td>\n",
              "      <td>1700.0</td>\n",
              "    </tr>\n",
              "    <tr>\n",
              "      <th>3</th>\n",
              "      <td>4</td>\n",
              "      <td>Arabica</td>\n",
              "      <td>yidnekachew dabessa</td>\n",
              "      <td>Ethiopia</td>\n",
              "      <td>yidnekachew dabessa coffee plantation</td>\n",
              "      <td>NaN</td>\n",
              "      <td>wolensu</td>\n",
              "      <td>NaN</td>\n",
              "      <td>yidnekachew debessa coffee plantation</td>\n",
              "      <td>1800-2200</td>\n",
              "      <td>...</td>\n",
              "      <td>Green</td>\n",
              "      <td>2</td>\n",
              "      <td>March 25th, 2016</td>\n",
              "      <td>METAD Agricultural Development plc</td>\n",
              "      <td>309fcf77415a3661ae83e027f7e5f05dad786e44</td>\n",
              "      <td>19fef5a731de2db57d16da10287413f5f99bc2dd</td>\n",
              "      <td>m</td>\n",
              "      <td>1800.0</td>\n",
              "      <td>2200.0</td>\n",
              "      <td>2000.0</td>\n",
              "    </tr>\n",
              "    <tr>\n",
              "      <th>4</th>\n",
              "      <td>5</td>\n",
              "      <td>Arabica</td>\n",
              "      <td>metad plc</td>\n",
              "      <td>Ethiopia</td>\n",
              "      <td>metad plc</td>\n",
              "      <td>NaN</td>\n",
              "      <td>metad plc</td>\n",
              "      <td>2014/2015</td>\n",
              "      <td>metad agricultural developmet plc</td>\n",
              "      <td>1950-2200</td>\n",
              "      <td>...</td>\n",
              "      <td>Green</td>\n",
              "      <td>2</td>\n",
              "      <td>April 3rd, 2016</td>\n",
              "      <td>METAD Agricultural Development plc</td>\n",
              "      <td>309fcf77415a3661ae83e027f7e5f05dad786e44</td>\n",
              "      <td>19fef5a731de2db57d16da10287413f5f99bc2dd</td>\n",
              "      <td>m</td>\n",
              "      <td>1950.0</td>\n",
              "      <td>2200.0</td>\n",
              "      <td>2075.0</td>\n",
              "    </tr>\n",
              "  </tbody>\n",
              "</table>\n",
              "<p>5 rows × 44 columns</p>\n",
              "</div>\n",
              "    <div class=\"colab-df-buttons\">\n",
              "\n",
              "  <div class=\"colab-df-container\">\n",
              "    <button class=\"colab-df-convert\" onclick=\"convertToInteractive('df-077e6cc2-4441-4e2f-89a6-b1ca8d9d2b80')\"\n",
              "            title=\"Convert this dataframe to an interactive table.\"\n",
              "            style=\"display:none;\">\n",
              "\n",
              "  <svg xmlns=\"http://www.w3.org/2000/svg\" height=\"24px\" viewBox=\"0 -960 960 960\">\n",
              "    <path d=\"M120-120v-720h720v720H120Zm60-500h600v-160H180v160Zm220 220h160v-160H400v160Zm0 220h160v-160H400v160ZM180-400h160v-160H180v160Zm440 0h160v-160H620v160ZM180-180h160v-160H180v160Zm440 0h160v-160H620v160Z\"/>\n",
              "  </svg>\n",
              "    </button>\n",
              "\n",
              "  <style>\n",
              "    .colab-df-container {\n",
              "      display:flex;\n",
              "      gap: 12px;\n",
              "    }\n",
              "\n",
              "    .colab-df-convert {\n",
              "      background-color: #E8F0FE;\n",
              "      border: none;\n",
              "      border-radius: 50%;\n",
              "      cursor: pointer;\n",
              "      display: none;\n",
              "      fill: #1967D2;\n",
              "      height: 32px;\n",
              "      padding: 0 0 0 0;\n",
              "      width: 32px;\n",
              "    }\n",
              "\n",
              "    .colab-df-convert:hover {\n",
              "      background-color: #E2EBFA;\n",
              "      box-shadow: 0px 1px 2px rgba(60, 64, 67, 0.3), 0px 1px 3px 1px rgba(60, 64, 67, 0.15);\n",
              "      fill: #174EA6;\n",
              "    }\n",
              "\n",
              "    .colab-df-buttons div {\n",
              "      margin-bottom: 4px;\n",
              "    }\n",
              "\n",
              "    [theme=dark] .colab-df-convert {\n",
              "      background-color: #3B4455;\n",
              "      fill: #D2E3FC;\n",
              "    }\n",
              "\n",
              "    [theme=dark] .colab-df-convert:hover {\n",
              "      background-color: #434B5C;\n",
              "      box-shadow: 0px 1px 3px 1px rgba(0, 0, 0, 0.15);\n",
              "      filter: drop-shadow(0px 1px 2px rgba(0, 0, 0, 0.3));\n",
              "      fill: #FFFFFF;\n",
              "    }\n",
              "  </style>\n",
              "\n",
              "    <script>\n",
              "      const buttonEl =\n",
              "        document.querySelector('#df-077e6cc2-4441-4e2f-89a6-b1ca8d9d2b80 button.colab-df-convert');\n",
              "      buttonEl.style.display =\n",
              "        google.colab.kernel.accessAllowed ? 'block' : 'none';\n",
              "\n",
              "      async function convertToInteractive(key) {\n",
              "        const element = document.querySelector('#df-077e6cc2-4441-4e2f-89a6-b1ca8d9d2b80');\n",
              "        const dataTable =\n",
              "          await google.colab.kernel.invokeFunction('convertToInteractive',\n",
              "                                                    [key], {});\n",
              "        if (!dataTable) return;\n",
              "\n",
              "        const docLinkHtml = 'Like what you see? Visit the ' +\n",
              "          '<a target=\"_blank\" href=https://colab.research.google.com/notebooks/data_table.ipynb>data table notebook</a>'\n",
              "          + ' to learn more about interactive tables.';\n",
              "        element.innerHTML = '';\n",
              "        dataTable['output_type'] = 'display_data';\n",
              "        await google.colab.output.renderOutput(dataTable, element);\n",
              "        const docLink = document.createElement('div');\n",
              "        docLink.innerHTML = docLinkHtml;\n",
              "        element.appendChild(docLink);\n",
              "      }\n",
              "    </script>\n",
              "  </div>\n",
              "\n",
              "\n",
              "    <div id=\"df-6d3c84f1-ab04-48d6-9073-9b3b36cc6e47\">\n",
              "      <button class=\"colab-df-quickchart\" onclick=\"quickchart('df-6d3c84f1-ab04-48d6-9073-9b3b36cc6e47')\"\n",
              "                title=\"Suggest charts\"\n",
              "                style=\"display:none;\">\n",
              "\n",
              "<svg xmlns=\"http://www.w3.org/2000/svg\" height=\"24px\"viewBox=\"0 0 24 24\"\n",
              "     width=\"24px\">\n",
              "    <g>\n",
              "        <path d=\"M19 3H5c-1.1 0-2 .9-2 2v14c0 1.1.9 2 2 2h14c1.1 0 2-.9 2-2V5c0-1.1-.9-2-2-2zM9 17H7v-7h2v7zm4 0h-2V7h2v10zm4 0h-2v-4h2v4z\"/>\n",
              "    </g>\n",
              "</svg>\n",
              "      </button>\n",
              "\n",
              "<style>\n",
              "  .colab-df-quickchart {\n",
              "      --bg-color: #E8F0FE;\n",
              "      --fill-color: #1967D2;\n",
              "      --hover-bg-color: #E2EBFA;\n",
              "      --hover-fill-color: #174EA6;\n",
              "      --disabled-fill-color: #AAA;\n",
              "      --disabled-bg-color: #DDD;\n",
              "  }\n",
              "\n",
              "  [theme=dark] .colab-df-quickchart {\n",
              "      --bg-color: #3B4455;\n",
              "      --fill-color: #D2E3FC;\n",
              "      --hover-bg-color: #434B5C;\n",
              "      --hover-fill-color: #FFFFFF;\n",
              "      --disabled-bg-color: #3B4455;\n",
              "      --disabled-fill-color: #666;\n",
              "  }\n",
              "\n",
              "  .colab-df-quickchart {\n",
              "    background-color: var(--bg-color);\n",
              "    border: none;\n",
              "    border-radius: 50%;\n",
              "    cursor: pointer;\n",
              "    display: none;\n",
              "    fill: var(--fill-color);\n",
              "    height: 32px;\n",
              "    padding: 0;\n",
              "    width: 32px;\n",
              "  }\n",
              "\n",
              "  .colab-df-quickchart:hover {\n",
              "    background-color: var(--hover-bg-color);\n",
              "    box-shadow: 0 1px 2px rgba(60, 64, 67, 0.3), 0 1px 3px 1px rgba(60, 64, 67, 0.15);\n",
              "    fill: var(--button-hover-fill-color);\n",
              "  }\n",
              "\n",
              "  .colab-df-quickchart-complete:disabled,\n",
              "  .colab-df-quickchart-complete:disabled:hover {\n",
              "    background-color: var(--disabled-bg-color);\n",
              "    fill: var(--disabled-fill-color);\n",
              "    box-shadow: none;\n",
              "  }\n",
              "\n",
              "  .colab-df-spinner {\n",
              "    border: 2px solid var(--fill-color);\n",
              "    border-color: transparent;\n",
              "    border-bottom-color: var(--fill-color);\n",
              "    animation:\n",
              "      spin 1s steps(1) infinite;\n",
              "  }\n",
              "\n",
              "  @keyframes spin {\n",
              "    0% {\n",
              "      border-color: transparent;\n",
              "      border-bottom-color: var(--fill-color);\n",
              "      border-left-color: var(--fill-color);\n",
              "    }\n",
              "    20% {\n",
              "      border-color: transparent;\n",
              "      border-left-color: var(--fill-color);\n",
              "      border-top-color: var(--fill-color);\n",
              "    }\n",
              "    30% {\n",
              "      border-color: transparent;\n",
              "      border-left-color: var(--fill-color);\n",
              "      border-top-color: var(--fill-color);\n",
              "      border-right-color: var(--fill-color);\n",
              "    }\n",
              "    40% {\n",
              "      border-color: transparent;\n",
              "      border-right-color: var(--fill-color);\n",
              "      border-top-color: var(--fill-color);\n",
              "    }\n",
              "    60% {\n",
              "      border-color: transparent;\n",
              "      border-right-color: var(--fill-color);\n",
              "    }\n",
              "    80% {\n",
              "      border-color: transparent;\n",
              "      border-right-color: var(--fill-color);\n",
              "      border-bottom-color: var(--fill-color);\n",
              "    }\n",
              "    90% {\n",
              "      border-color: transparent;\n",
              "      border-bottom-color: var(--fill-color);\n",
              "    }\n",
              "  }\n",
              "</style>\n",
              "\n",
              "      <script>\n",
              "        async function quickchart(key) {\n",
              "          const quickchartButtonEl =\n",
              "            document.querySelector('#' + key + ' button');\n",
              "          quickchartButtonEl.disabled = true;  // To prevent multiple clicks.\n",
              "          quickchartButtonEl.classList.add('colab-df-spinner');\n",
              "          try {\n",
              "            const charts = await google.colab.kernel.invokeFunction(\n",
              "                'suggestCharts', [key], {});\n",
              "          } catch (error) {\n",
              "            console.error('Error during call to suggestCharts:', error);\n",
              "          }\n",
              "          quickchartButtonEl.classList.remove('colab-df-spinner');\n",
              "          quickchartButtonEl.classList.add('colab-df-quickchart-complete');\n",
              "        }\n",
              "        (() => {\n",
              "          let quickchartButtonEl =\n",
              "            document.querySelector('#df-6d3c84f1-ab04-48d6-9073-9b3b36cc6e47 button');\n",
              "          quickchartButtonEl.style.display =\n",
              "            google.colab.kernel.accessAllowed ? 'block' : 'none';\n",
              "        })();\n",
              "      </script>\n",
              "    </div>\n",
              "\n",
              "    </div>\n",
              "  </div>\n"
            ],
            "application/vnd.google.colaboratory.intrinsic+json": {
              "type": "dataframe",
              "variable_name": "df"
            }
          },
          "metadata": {},
          "execution_count": 3
        }
      ]
    },
    {
      "cell_type": "code",
      "source": [
        "column_rename_map = {\n",
        "    \"Country.of.Origin\": \"Country of Origin\",\n",
        "    \"Farm.Name\": \"Farm Name\",\n",
        "    \"Lot.Number\": \"Lot Number\",\n",
        "    \"ICO.Number\": \"ICO Number\",\n",
        "    \"Bag.Weight\": \"Bag Weight\",\n",
        "    \"In.Country.Partner\": \"In-Country Partner\",\n",
        "    \"Harvest.Year\": \"Harvest Year\",\n",
        "    \"Grading.Date\": \"Grading Date\",\n",
        "    \"Processing.Method\": \"Processing Method\",\n",
        "    \"Total.Cup.Points\": \"Total Cup Points\",\n",
        "    \"Cupper.Points\": \"Overall\",\n",
        "    \"Clean.Cup\": \"Clean Cup\",\n",
        "    \"Category.One.Defects\": \"Category One Defects\",\n",
        "    \"Category.Two.Defects\": \"Category Two Defects\",\n",
        "    \"Certification.Body\": \"Certification Body\",\n",
        "    \"Certification.Address\": \"Certification Address\",\n",
        "    \"Certification.Contact\": \"Certification Contact\",\n",
        "    \"Owner.1\": \"Owner\"\n",
        "    # 필요한 경우 더 추가\n",
        "}\n",
        "\n",
        "df.rename(columns=column_rename_map, inplace=True)\n",
        "df.info()"
      ],
      "metadata": {
        "colab": {
          "base_uri": "https://localhost:8080/"
        },
        "id": "Jt5-dxMyLBF3",
        "outputId": "de677409-b6b7-491d-8ee9-bbc7f39f3450"
      },
      "execution_count": 4,
      "outputs": [
        {
          "output_type": "stream",
          "name": "stdout",
          "text": [
            "<class 'pandas.core.frame.DataFrame'>\n",
            "RangeIndex: 1311 entries, 0 to 1310\n",
            "Data columns (total 44 columns):\n",
            " #   Column                 Non-Null Count  Dtype  \n",
            "---  ------                 --------------  -----  \n",
            " 0   Unnamed: 0             1311 non-null   int64  \n",
            " 1   Species                1311 non-null   object \n",
            " 2   Owner                  1304 non-null   object \n",
            " 3   Country of Origin      1310 non-null   object \n",
            " 4   Farm Name              955 non-null    object \n",
            " 5   Lot Number             270 non-null    object \n",
            " 6   Mill                   1001 non-null   object \n",
            " 7   ICO Number             1163 non-null   object \n",
            " 8   Company                1102 non-null   object \n",
            " 9   Altitude               1088 non-null   object \n",
            " 10  Region                 1254 non-null   object \n",
            " 11  Producer               1081 non-null   object \n",
            " 12  Number.of.Bags         1311 non-null   int64  \n",
            " 13  Bag Weight             1311 non-null   object \n",
            " 14  In-Country Partner     1311 non-null   object \n",
            " 15  Harvest Year           1264 non-null   object \n",
            " 16  Grading Date           1311 non-null   object \n",
            " 17  Owner                  1304 non-null   object \n",
            " 18  Variety                1110 non-null   object \n",
            " 19  Processing Method      1159 non-null   object \n",
            " 20  Aroma                  1311 non-null   float64\n",
            " 21  Flavor                 1311 non-null   float64\n",
            " 22  Aftertaste             1311 non-null   float64\n",
            " 23  Acidity                1311 non-null   float64\n",
            " 24  Body                   1311 non-null   float64\n",
            " 25  Balance                1311 non-null   float64\n",
            " 26  Uniformity             1311 non-null   float64\n",
            " 27  Clean Cup              1311 non-null   float64\n",
            " 28  Sweetness              1311 non-null   float64\n",
            " 29  Overall                1311 non-null   float64\n",
            " 30  Total Cup Points       1311 non-null   float64\n",
            " 31  Moisture               1311 non-null   float64\n",
            " 32  Category One Defects   1311 non-null   int64  \n",
            " 33  Quakers                1310 non-null   float64\n",
            " 34  Color                  1044 non-null   object \n",
            " 35  Category Two Defects   1311 non-null   int64  \n",
            " 36  Expiration             1311 non-null   object \n",
            " 37  Certification Body     1311 non-null   object \n",
            " 38  Certification Address  1311 non-null   object \n",
            " 39  Certification Contact  1311 non-null   object \n",
            " 40  unit_of_measurement    1311 non-null   object \n",
            " 41  altitude_low_meters    1084 non-null   float64\n",
            " 42  altitude_high_meters   1084 non-null   float64\n",
            " 43  altitude_mean_meters   1084 non-null   float64\n",
            "dtypes: float64(16), int64(4), object(24)\n",
            "memory usage: 450.8+ KB\n"
          ]
        }
      ]
    },
    {
      "cell_type": "code",
      "source": [
        "'''\n",
        "데이터 출처: Coffee Quality Institute(CQI)\n",
        "전 세계 커피 품질 햐앙을 위해 설립된 비영리 단체(미국, 1996년 설립)\n",
        "\n",
        "데이터 내용:\n",
        "1) 커피의 생산,가공,감각 평가(sensory evaluation)\n",
        "2) 유전 정보, 토양, 결점(bean defects) 등 다양한 품질 요소 포함\n",
        "\n",
        "데이터\n",
        "1, 감각평가(sensory evaluation) - 커피 맛 관련 10개 지표\n",
        "Aroma\t커피의 향 (후각적 인상)\n",
        "Flavor\t커피 맛 전반 (단맛, 쓴맛, 산미 등)\n",
        "Aftertaste\t마신 후 입 안에 남는 여운\n",
        "Acidity\t밝기, 상큼함을 느끼게 하는 맛의 요소\n",
        "Body\t커피의 점도(질감), 입안에서 느껴지는 무게감\n",
        "Balance\t맛 요소들의 균형감\n",
        "Uniformity\t한 샘플 내 여러 잔의 일관성\n",
        "Clean Cup\t결점 없는 깔끔한 맛\n",
        "Sweetness\t캐러멜, 과일, 꽃향기 등 긍정적인 단맛\n",
        "Overall\t평가자의 종합적인 인상\n",
        "\n",
        "2. 결점(defects) - 커피 품질에 부정적 영향을 주는 요소\n",
        "Category One Defects\t시각적으로 확인 가능한 주요 결점 (예: 검은 콩, 곰팡이 손상 등)\n",
        "Category Two Defects\t미각으로 감지되는 부차적 결점 (예: 오래된 맛, 발효 과다 등)\n",
        "Defects\t결점 총점 (상기 두 항목에서 계산됨)\n",
        "\n",
        "3. 기타 컬럼\n",
        "Country of Origin\t원산지 국가\n",
        "Variety\t커피 품종 (예: Bourbon, Caturra 등)\n",
        "Processing Method\t가공 방식 (예: Washed, Natural 등)\n",
        "Altitude\t재배 고도\n",
        "Color\t로스팅 전 원두의 색상\n",
        "Moisture Percentage\t원두 내 수분 비율\n",
        "Number of Bags / Bag Weight\t샘플 물량\n",
        "Grading Date / Harvest Year\t수확 연도 및 평가 날짜\n",
        "\n",
        "4. 타켓 변수\n",
        "Total Cup Points: 위의 10가지 점수를 모두 더한 값 (정확한 계산 공식이 알려져 있음)\n",
        "'''"
      ],
      "metadata": {
        "colab": {
          "base_uri": "https://localhost:8080/",
          "height": 294
        },
        "id": "fg51BPUJLVmn",
        "outputId": "b1f77b6f-5577-43db-c599-d741b078f59f"
      },
      "execution_count": 5,
      "outputs": [
        {
          "output_type": "execute_result",
          "data": {
            "text/plain": [
              "'\\n데이터 출처: Coffee Quality Institute(CQI)\\n전 세계 커피 품질 햐앙을 위해 설립된 비영리 단체(미국, 1996년 설립)\\n\\n데이터 내용:\\n1) 커피의 생산,가공,감각 평가(sensory evaluation)\\n2) 유전 정보, 토양, 결점(bean defects) 등 다양한 품질 요소 포함\\n\\n데이터\\n1, 감각평가(sensory evaluation) - 커피 맛 관련 10개 지표\\nAroma\\t커피의 향 (후각적 인상)\\nFlavor\\t커피 맛 전반 (단맛, 쓴맛, 산미 등)\\nAftertaste\\t마신 후 입 안에 남는 여운\\nAcidity\\t밝기, 상큼함을 느끼게 하는 맛의 요소\\nBody\\t커피의 점도(질감), 입안에서 느껴지는 무게감\\nBalance\\t맛 요소들의 균형감\\nUniformity\\t한 샘플 내 여러 잔의 일관성\\nClean Cup\\t결점 없는 깔끔한 맛\\nSweetness\\t캐러멜, 과일, 꽃향기 등 긍정적인 단맛\\nOverall\\t평가자의 종합적인 인상\\n\\n2. 결점(defects) - 커피 품질에 부정적 영향을 주는 요소\\nCategory One Defects\\t시각적으로 확인 가능한 주요 결점 (예: 검은 콩, 곰팡이 손상 등)\\nCategory Two Defects\\t미각으로 감지되는 부차적 결점 (예: 오래된 맛, 발효 과다 등)\\nDefects\\t결점 총점 (상기 두 항목에서 계산됨)\\n\\n3. 기타 컬럼\\nCountry of Origin\\t원산지 국가\\nVariety\\t커피 품종 (예: Bourbon, Caturra 등)\\nProcessing Method\\t가공 방식 (예: Washed, Natural 등)\\nAltitude\\t재배 고도\\nColor\\t로스팅 전 원두의 색상\\nMoisture Percentage\\t원두 내 수분 비율\\nNumber of Bags / Bag Weight\\t샘플 물량\\nGrading Date / Harvest Year\\t수확 연도 및 평가 날짜\\n\\n4. 타켓 변수\\nTotal Cup Points: 위의 10가지 점수를 모두 더한 값 (정확한 계산 공식이 알려져 있음)\\n'"
            ],
            "application/vnd.google.colaboratory.intrinsic+json": {
              "type": "string"
            }
          },
          "metadata": {},
          "execution_count": 5
        }
      ]
    },
    {
      "cell_type": "markdown",
      "source": [
        "## 1. Data Preparation\n",
        "- 1. Data Cleaning: 이상치, 결측치 제거 or 보간\n",
        "- 2. Data Transformation: 문자열 -> 숫자 등 형식 변환\n",
        "- 3. Data Reduction: 불필요한 컬럼 제거\n",
        "- 4. Feature Engineering: 파생 변수 생성, 인코딩"
      ],
      "metadata": {
        "id": "3l0A3TIaLIQ-"
      }
    },
    {
      "cell_type": "code",
      "source": [
        "# 범주형 컬럼, 수치형 컬럼 자동 분류\n",
        "categorical_cols = df.select_dtypes(include='object').columns.tolist()\n",
        "numerical_cols = df.select_dtypes(include=['int64', 'float64']).columns.tolist()\n",
        "\n",
        "print(\"범주형(Categorical) 변수:\", categorical_cols)\n",
        "print(\"수치형(Numerical) 변수:\", numerical_cols)"
      ],
      "metadata": {
        "colab": {
          "base_uri": "https://localhost:8080/"
        },
        "id": "FsPvfvI1LH2y",
        "outputId": "bcaf2c68-136f-4cd4-dc09-aa71c0d65a80"
      },
      "execution_count": 6,
      "outputs": [
        {
          "output_type": "stream",
          "name": "stdout",
          "text": [
            "범주형(Categorical) 변수: ['Species', 'Owner', 'Country of Origin', 'Farm Name', 'Lot Number', 'Mill', 'ICO Number', 'Company', 'Altitude', 'Region', 'Producer', 'Bag Weight', 'In-Country Partner', 'Harvest Year', 'Grading Date', 'Owner', 'Variety', 'Processing Method', 'Color', 'Expiration', 'Certification Body', 'Certification Address', 'Certification Contact', 'unit_of_measurement']\n",
            "수치형(Numerical) 변수: ['Unnamed: 0', 'Number.of.Bags', 'Aroma', 'Flavor', 'Aftertaste', 'Acidity', 'Body', 'Balance', 'Uniformity', 'Clean Cup', 'Sweetness', 'Overall', 'Total Cup Points', 'Moisture', 'Category One Defects', 'Quakers', 'Category Two Defects', 'altitude_low_meters', 'altitude_high_meters', 'altitude_mean_meters']\n"
          ]
        }
      ]
    },
    {
      "cell_type": "code",
      "source": [
        "#수치형 결측치 처리\n",
        "#결점(bean defect)의 수이므로, 결측 = 결점이 없음으로 간주하고 0 대체\n",
        "df[\"Quakers\"] = df[\"Quakers\"].fillna(0)"
      ],
      "metadata": {
        "id": "kUD4K4KYLXJi"
      },
      "execution_count": 7,
      "outputs": []
    },
    {
      "cell_type": "code",
      "source": [
        "# 문자형 결측치는 'Unknown'으로 채움\n",
        "fill_unknown_cols = [\"Country of Origin\", 'Color','Variety', 'Processing Method', 'Mill', 'Farm Name', 'Region', 'Producer']\n",
        "df[fill_unknown_cols] = df[fill_unknown_cols].fillna(\"Unknown\")"
      ],
      "metadata": {
        "id": "AKnLSl_pLY3e"
      },
      "execution_count": 8,
      "outputs": []
    },
    {
      "cell_type": "code",
      "source": [
        "# 중복된 샘플이 있으면 머신러닝 모델 학습에 편향(bias) 생길 수 있음 -> 삭제\n",
        "duplicate_rows = df[df.duplicated()]\n",
        "print(\"중복 row의 수 \", duplicate_rows.shape)\n",
        "df.drop_duplicates(inplace=True)\n",
        "print(df.shape)"
      ],
      "metadata": {
        "colab": {
          "base_uri": "https://localhost:8080/"
        },
        "id": "ZEZT5NjpLZmX",
        "outputId": "53e38a66-1dc2-4438-90a2-7dae7d4b42de"
      },
      "execution_count": 9,
      "outputs": [
        {
          "output_type": "stream",
          "name": "stdout",
          "text": [
            "중복 row의 수  (0, 44)\n",
            "(1311, 44)\n"
          ]
        }
      ]
    },
    {
      "cell_type": "code",
      "source": [
        "# altitude\n",
        "# altitude_mean_meters → 최우선 사용, 부족한 경우 low/high로 평균 계산하여 대체\n",
        "df[\"Altitude\"] = df[\"altitude_mean_meters\"]\n",
        "missing_alt = df[\"Altitude\"].isna()\n",
        "df.loc[missing_alt, \"Altitude\"] = (\n",
        "    df.loc[missing_alt, [\"altitude_low_meters\", \"altitude_high_meters\"]]\n",
        "    .mean(axis=1)\n",
        ")\n",
        "\n",
        "# Altitude 수치형 변환\n",
        "def clean_altitude(alt):\n",
        "    if isinstance(alt, str):\n",
        "        alt = alt.strip().replace(\" \", \"\")\n",
        "        if '-' in alt:\n",
        "            try:\n",
        "                start, end = alt.split('-')\n",
        "                return (int(start) + int(end)) / 2\n",
        "            except:\n",
        "                return np.nan\n",
        "        try:\n",
        "            return float(alt)\n",
        "        except:\n",
        "            return np.nan\n",
        "    return alt\n",
        "\n",
        "still_missing = df[\"Altitude\"].isna()\n",
        "df.loc[still_missing, \"Altitude\"] = (\n",
        "    df.loc[still_missing, \"Altitude\"].combine_first(\n",
        "        df.loc[still_missing, \"Altitude\"].apply(clean_altitude)\n",
        "    )\n",
        ")\n",
        "\n",
        "# 마지막 결측은 전체 중앙값으로 대체\n",
        "df[\"Altitude\"] = df[\"Altitude\"].fillna(df[\"Altitude\"].median())\n",
        "\n",
        "print(df[\"Altitude\"].value_counts().head(20))\n",
        "\n",
        "\n",
        "df[\"Altitude\"] = df[\"Altitude\"].apply(clean_altitude)\n",
        "df[\"Altitude\"] = df[\"Altitude\"].fillna(df[\"Altitude\"].median())\n",
        "print(df[\"Altitude\"].dtype)"
      ],
      "metadata": {
        "colab": {
          "base_uri": "https://localhost:8080/"
        },
        "id": "-dJ849MmLa3-",
        "outputId": "78417a2e-9901-47de-dfa3-257275e41717"
      },
      "execution_count": 10,
      "outputs": [
        {
          "output_type": "stream",
          "name": "stdout",
          "text": [
            "Altitude\n",
            "1310.64    258\n",
            "1200.00     66\n",
            "1400.00     52\n",
            "1100.00     52\n",
            "1300.00     50\n",
            "1500.00     44\n",
            "1250.00     39\n",
            "1700.00     36\n",
            "1600.00     35\n",
            "1550.00     34\n",
            "1750.00     34\n",
            "1800.00     33\n",
            "1450.00     33\n",
            "1775.00     33\n",
            "1000.00     32\n",
            "1219.20     28\n",
            "1350.00     25\n",
            "1650.00     22\n",
            "800.00      18\n",
            "1850.00     12\n",
            "Name: count, dtype: int64\n",
            "float64\n"
          ]
        }
      ]
    },
    {
      "cell_type": "code",
      "source": [
        "# Bag Weight\n",
        "print(df[\"Bag Weight\"].unique()[:20])\n",
        "\n",
        "def extract_weight(kg_string):\n",
        "    if isinstance(kg_string, str):\n",
        "        # 숫자만 추출\n",
        "        number = ''.join(c for c in kg_string if c.isdigit())\n",
        "        try:\n",
        "            return int(number)\n",
        "        except:\n",
        "            return np.nan\n",
        "    return kg_string  # 이미 숫자인 경우\n",
        "\n",
        "df[\"Bag Weight\"] = df[\"Bag Weight\"].apply(extract_weight)\n",
        "print(df[\"Bag Weight\"].dtype)"
      ],
      "metadata": {
        "colab": {
          "base_uri": "https://localhost:8080/"
        },
        "id": "mbsSHG9pLb67",
        "outputId": "0e03aef9-fc60-450d-ff99-99ab8335a553"
      },
      "execution_count": 11,
      "outputs": [
        {
          "output_type": "stream",
          "name": "stdout",
          "text": [
            "['60 kg' '1' '30 kg' '69 kg' '1 kg' '2 kg,lbs' '6' '3 lbs' '50 kg' '2 lbs'\n",
            " '100 lbs' '15 kg' '2 kg' '2' '70 kg' '19200 kg' '5 lbs' '1 kg,lbs' '6 kg'\n",
            " '0 lbs']\n",
            "int64\n"
          ]
        }
      ]
    },
    {
      "cell_type": "code",
      "source": [
        "# Harvest Year\n",
        "import pandas as pd\n",
        "import re\n",
        "from dateutil import parser\n",
        "\n",
        "# 함수 정의\n",
        "def extract_year(value):\n",
        "    if pd.isnull(value):\n",
        "        return None\n",
        "\n",
        "    # 문자열에서 4자리 연도 패턴 추출\n",
        "    match = re.search(r\"(20\\d{2}|19\\d{2})\", str(value))\n",
        "    if match:\n",
        "        return int(match.group(0))\n",
        "    else:\n",
        "        return None\n",
        "\n",
        "# 연도 추출\n",
        "df[\"Harvest Year\"] = df[\"Harvest Year\"].apply(extract_year)\n",
        "\n",
        "# datetime 형식으로 변환\n",
        "df[\"Harvest Year\"] = pd.to_datetime(df[\"Harvest Year\"], format=\"%Y\", errors=\"coerce\")\n",
        "\n",
        "# 최빈값 대체\n",
        "mode_year = df[\"Harvest Year\"].mode()[0]\n",
        "df[\"Harvest Year\"] = df[\"Harvest Year\"].fillna(mode_year)\n",
        "\n",
        "# 2. 다시 datetime 변환\n",
        "df[\"Harvest Year\"] = pd.to_datetime(df[\"Harvest Year\"], format=\"%Y\", errors=\"coerce\")\n",
        "\n",
        "# 3. Expiration도 datetime 변환\n",
        "df[\"Expiration\"] = df[\"Expiration\"].apply(parser.parse)\n",
        "\n",
        "# 4. Coffee Age 파생변수 다시 생성\n",
        "df[\"Coffee Age\"] = (df[\"Expiration\"] - df[\"Harvest Year\"]).dt.days\n",
        "\n",
        "# Coffee Age 생성 이후 여전히 남은 결측치 → 중앙값 대체\n",
        "df[\"Coffee Age\"] = df[\"Coffee Age\"].fillna(df[\"Coffee Age\"].median())\n",
        "df[\"Coffee Age\"] = df[\"Coffee Age\"].fillna(0).astype(int)\n",
        "\n",
        "df.drop(columns=[\"Harvest Year\", \"Expiration\"], inplace=True, errors='ignore')"
      ],
      "metadata": {
        "id": "1BXvz_xoLc0G"
      },
      "execution_count": 12,
      "outputs": []
    },
    {
      "cell_type": "code",
      "source": [
        "#불필요한 컬럼 제거\n",
        "# 의미 없는 식별자 컬럼 제거\n",
        "df.drop(columns=[\"ICO Number\", \"Lot Number\"], inplace=True)\n",
        "\n",
        "# 상관 낮은 변수 제거\n",
        "drop_low_corr = [\n",
        "    \"Uniformity\", \"Clean Cup\", \"Sweetness\",\n",
        "    \"Moisture Percentage\", \"Category One Defects\"\n",
        "]\n",
        "df.drop(columns=drop_low_corr, inplace=True, errors='ignore')\n",
        "\n",
        "# 12. 의미 없는 범주형 변수 제거\n",
        "manual_drops = [\n",
        "    \"Status\", \"Certification Address\", \"Certification Contact\",\n",
        "    \"Owner\", \"Company\", \"Farm Name\", \"Producer\"\n",
        "]\n",
        "df.drop(columns=manual_drops, inplace=True, errors='ignore')\n",
        "\n",
        "# 새로 만든 컬럼으로 대체한 기존 컬럼 삭제\n",
        "df.drop(columns=[\n",
        "    \"altitude_low_meters\",\n",
        "    \"altitude_high_meters\",\n",
        "    \"altitude_mean_meters\",\n",
        "    \"Unnamed: 0\",\n",
        "    \"unit_of_measurement\",\n",
        "    \"Species\",\n",
        "    \"Moisture\"\n",
        "], inplace=True, errors='ignore')"
      ],
      "metadata": {
        "id": "eZn2ymspLd5T"
      },
      "execution_count": 13,
      "outputs": []
    },
    {
      "cell_type": "code",
      "source": [
        "# 결측치 개수 확인\n",
        "missing_counts = df.isnull().sum()\n",
        "missing_counts = missing_counts[missing_counts > 0].sort_values(ascending=False)\n",
        "missing_counts"
      ],
      "metadata": {
        "colab": {
          "base_uri": "https://localhost:8080/",
          "height": 84
        },
        "id": "e3fdj6P7LiOz",
        "outputId": "874d68e2-8416-470d-d78d-a12bcee0602b"
      },
      "execution_count": 14,
      "outputs": [
        {
          "output_type": "execute_result",
          "data": {
            "text/plain": [
              "Series([], dtype: int64)"
            ],
            "text/html": [
              "<div>\n",
              "<style scoped>\n",
              "    .dataframe tbody tr th:only-of-type {\n",
              "        vertical-align: middle;\n",
              "    }\n",
              "\n",
              "    .dataframe tbody tr th {\n",
              "        vertical-align: top;\n",
              "    }\n",
              "\n",
              "    .dataframe thead th {\n",
              "        text-align: right;\n",
              "    }\n",
              "</style>\n",
              "<table border=\"1\" class=\"dataframe\">\n",
              "  <thead>\n",
              "    <tr style=\"text-align: right;\">\n",
              "      <th></th>\n",
              "      <th>0</th>\n",
              "    </tr>\n",
              "  </thead>\n",
              "  <tbody>\n",
              "  </tbody>\n",
              "</table>\n",
              "</div><br><label><b>dtype:</b> int64</label>"
            ]
          },
          "metadata": {},
          "execution_count": 14
        }
      ]
    },
    {
      "cell_type": "code",
      "source": [
        "df.isnull().sum().sum()  # == 0일 것!\n",
        "\n",
        "# 최종 확인\n",
        "print(df.shape)"
      ],
      "metadata": {
        "colab": {
          "base_uri": "https://localhost:8080/"
        },
        "id": "LaoghvbqLt9O",
        "outputId": "2dddd978-aed6-40d5-bf7a-39833b33d584"
      },
      "execution_count": 15,
      "outputs": [
        {
          "output_type": "stream",
          "name": "stdout",
          "text": [
            "(1311, 23)\n"
          ]
        }
      ]
    },
    {
      "cell_type": "code",
      "source": [
        "# Classification 문제로 바꾸기 : Quality_label 생성\n",
        "# label 만들기\n",
        "def quality_label(score):\n",
        "    if score >= 90:\n",
        "        return 5  # Outstanding\n",
        "    elif score >= 85:\n",
        "        return 4  # Excellent\n",
        "    elif score >= 80:\n",
        "        return 3  # Very Good\n",
        "    elif score >= 70:\n",
        "        return 2  # Acceptable\n",
        "    else:\n",
        "        return 1  # Poor\n",
        "\n",
        "#적용\n",
        "df['Quality_Label'] = df['Total Cup Points'].apply(quality_label)\n",
        "\n",
        "# 라벨 분포 확인\n",
        "import seaborn as sns\n",
        "import matplotlib.pyplot as plt\n",
        "\n",
        "plt.figure(figsize=(6, 4))\n",
        "sns.countplot(x=\"Quality_Label\", data=df)\n",
        "# 품질 등급별 샘플 수\n",
        "plt.title(\"Sample Count per Quality Label\")\n",
        "plt.xlabel(\"Quality Label (1~5)\")\n",
        "plt.ylabel(\"Count\")\n",
        "plt.show()\n",
        "\n",
        "# 비율도 같이 보기\n",
        "print(df[\"Quality_Label\"].value_counts(normalize=True).sort_index())\n"
      ],
      "metadata": {
        "colab": {
          "base_uri": "https://localhost:8080/",
          "height": 539
        },
        "id": "px9Bmb61Ly85",
        "outputId": "43cef9e5-1097-4101-854e-c671b00ff28a"
      },
      "execution_count": 16,
      "outputs": [
        {
          "output_type": "display_data",
          "data": {
            "text/plain": [
              "<Figure size 600x400 with 1 Axes>"
            ],
            "image/png": "[encoded data removed]"
          },
          "metadata": {}
        },
        {
          "output_type": "stream",
          "name": "stdout",
          "text": [
            "Quality_Label\n",
            "1    0.006102\n",
            "2    0.131960\n",
            "3    0.781083\n",
            "4    0.080092\n",
            "5    0.000763\n",
            "Name: proportion, dtype: float64\n"
          ]
        }
      ]
    },
    {
      "cell_type": "code",
      "source": [
        "# 'Quality_Label'을 만들 때 사용한 수치형 타겟은 이제 불필요\n",
        "df.drop(columns=[\"Total Cup Points\"], inplace=True)"
      ],
      "metadata": {
        "id": "XT4ve3GtL0Zo"
      },
      "execution_count": 17,
      "outputs": []
    },
    {
      "cell_type": "markdown",
      "source": [
        "## 2. Encoding"
      ],
      "metadata": {
        "id": "Zmuj048EL1iK"
      }
    },
    {
      "cell_type": "code",
      "source": [
        "# 1. 타겟과 입력 분리\n",
        "y = df[\"Quality_Label\"]\n",
        "X = df.drop(columns=[\"Quality_Label\"])\n",
        "\n",
        "# 2. 범주형 컬럼 찾기\n",
        "categorical_cols = X.select_dtypes(include=\"object\").columns.tolist()\n",
        "print(\"Categorical columns:\", categorical_cols)\n",
        "\n",
        "# 3. 원핫인코딩\n",
        "X_encoded = pd.get_dummies(X, columns=categorical_cols, drop_first=True)\n",
        "print(\"최종 X shape:\", X_encoded.shape)\n",
        "print(\"타겟 y 예시:\", y.head())"
      ],
      "metadata": {
        "colab": {
          "base_uri": "https://localhost:8080/"
        },
        "id": "GoDrZ6jwL3OK",
        "outputId": "84960070-c28b-4214-b0ff-e3d3945e528d"
      },
      "execution_count": 18,
      "outputs": [
        {
          "output_type": "stream",
          "name": "stdout",
          "text": [
            "Categorical columns: ['Country of Origin', 'Mill', 'Region', 'In-Country Partner', 'Grading Date', 'Variety', 'Processing Method', 'Color', 'Certification Body']\n",
            "최종 X shape: (1311, 1484)\n",
            "타겟 y 예시: 0    5\n",
            "1    4\n",
            "2    4\n",
            "3    4\n",
            "4    4\n",
            "Name: Quality_Label, dtype: int64\n"
          ]
        }
      ]
    },
    {
      "cell_type": "code",
      "source": [
        "!pip install imbalanced-learn\n",
        "# # SMOTE 적용\n",
        "# from imblearn.over_sampling import SMOTE\n",
        "\n",
        "# smote = SMOTE(random_state=42)\n",
        "# X_encoded, y = smote.fit_resample(X_encoded, y)\n",
        "# print(\"After SMOTE:\", y.value_counts().sort_index())\n",
        "\n",
        "# 6. SMOTENC 적용\n",
        "from imblearn.over_sampling import SMOTENC\n",
        "# 샘플이 너무 적은 클래스 제거 (ex: 5개 미만)\n",
        "vc = y.value_counts()\n",
        "drop_labels = vc[vc < 6].index.tolist()\n",
        "\n",
        "mask = ~y.isin(drop_labels)\n",
        "X_filtered = X_encoded[mask]\n",
        "y_filtered = y[mask]\n",
        "\n",
        "# 다시 SMOTENC\n",
        "from imblearn.over_sampling import SMOTENC\n",
        "\n",
        "# 범주형 인덱스 자동 추출\n",
        "cat_indices = [i for i, col in enumerate(X_filtered.columns) if any(cat in col for cat in categorical_cols)]\n",
        "\n",
        "smote_nc = SMOTENC(categorical_features=cat_indices, random_state=42)\n",
        "X_encoded, y = smote_nc.fit_resample(X_filtered, y_filtered)\n",
        "\n",
        "\n",
        "print(\"SMOTENC 완료 후 라벨 분포:\")\n",
        "print(pd.Series(y).value_counts())"
      ],
      "metadata": {
        "colab": {
          "base_uri": "https://localhost:8080/"
        },
        "id": "7Wapb563L5NU",
        "outputId": "f13f19aa-874a-4c3a-bef6-41391e47e415"
      },
      "execution_count": 19,
      "outputs": [
        {
          "output_type": "stream",
          "name": "stdout",
          "text": [
            "Requirement already satisfied: imbalanced-learn in /usr/local/lib/python3.11/dist-packages (0.13.0)\n",
            "Requirement already satisfied: numpy<3,>=1.24.3 in /usr/local/lib/python3.11/dist-packages (from imbalanced-learn) (2.0.2)\n",
            "Requirement already satisfied: scipy<2,>=1.10.1 in /usr/local/lib/python3.11/dist-packages (from imbalanced-learn) (1.15.2)\n",
            "Requirement already satisfied: scikit-learn<2,>=1.3.2 in /usr/local/lib/python3.11/dist-packages (from imbalanced-learn) (1.6.1)\n",
            "Requirement already satisfied: sklearn-compat<1,>=0.1 in /usr/local/lib/python3.11/dist-packages (from imbalanced-learn) (0.1.3)\n",
            "Requirement already satisfied: joblib<2,>=1.1.1 in /usr/local/lib/python3.11/dist-packages (from imbalanced-learn) (1.4.2)\n",
            "Requirement already satisfied: threadpoolctl<4,>=2.0.0 in /usr/local/lib/python3.11/dist-packages (from imbalanced-learn) (3.6.0)\n",
            "SMOTENC 완료 후 라벨 분포:\n",
            "Quality_Label\n",
            "4    1024\n",
            "3    1024\n",
            "2    1024\n",
            "1    1024\n",
            "Name: count, dtype: int64\n"
          ]
        }
      ]
    },
    {
      "cell_type": "code",
      "source": [
        "# 컬럼명 전처리 (특수문자 제거 + 중복 방지)\n",
        "# 1. 컬럼명 전처리: 특수문자 제거 + 중복 방지\n",
        "import re\n",
        "\n",
        "def clean_column_name(col):\n",
        "    col = re.sub(r'[^A-Za-z0-9_]', '_', col)   # 특수문자 → _\n",
        "    col = re.sub(r'_+', '_', col)              # 연속된 _ → 하나로\n",
        "    col = col.strip('_')                       # 앞뒤 _ 제거\n",
        "    return col\n",
        "\n",
        "X_encoded.columns = [clean_column_name(col) for col in X_encoded.columns]\n",
        "\n",
        "def make_column_names_unique(columns):\n",
        "    seen = {}\n",
        "    new_cols = []\n",
        "    for col in columns:\n",
        "        if col in seen:\n",
        "            seen[col] += 1\n",
        "            new_cols.append(f\"{col}__{seen[col]}\")\n",
        "        else:\n",
        "            seen[col] = 0\n",
        "            new_cols.append(col)\n",
        "    return new_cols\n",
        "\n",
        "# 특수문자 제거\n",
        "X_encoded.columns = [clean_column_name(col) for col in X_encoded.columns]\n",
        "\n",
        "# 중복 방지\n",
        "X_encoded.columns = make_column_names_unique(X_encoded.columns)"
      ],
      "metadata": {
        "id": "AihcFWnAMEdl"
      },
      "execution_count": 20,
      "outputs": []
    },
    {
      "cell_type": "markdown",
      "source": [
        "## 4. Model"
      ],
      "metadata": {
        "id": "sqORCZfiMFnZ"
      }
    },
    {
      "cell_type": "code",
      "source": [
        "# 기존 Quality_Label이 1~5라면 → 0~4로 변환\n",
        "y = y - 1\n",
        "\n",
        "import warnings\n",
        "warnings.filterwarnings(\"ignore\")\n",
        "\n",
        "# 1. 기본 모듈\n",
        "from sklearn.model_selection import cross_val_score\n",
        "from sklearn.metrics import make_scorer, accuracy_score, f1_score, precision_score, recall_score\n",
        "from sklearn.ensemble import RandomForestClassifier, GradientBoostingClassifier\n",
        "from xgboost import XGBClassifier\n",
        "from lightgbm import LGBMClassifier\n",
        "\n",
        "# 모델 리스트\n",
        "models = {\n",
        "    \"RandomForest\": RandomForestClassifier(random_state=42),  #제일 좋은 성능\n",
        "    # \"XGBoost\": XGBClassifier(random_state=42, verbosity=0),\n",
        "    # \"GradientBoosting\": GradientBoostingClassifier(random_state=42),\n",
        "    # \"LightGBM\": LGBMClassifier(random_state=42)\n",
        "}\n",
        "\n",
        "# 스코어 함수들\n",
        "scorers = {\n",
        "    \"Accuracy\": make_scorer(accuracy_score),\n",
        "    \"F1 (macro)\": make_scorer(f1_score, average='macro'),\n",
        "    \"Precision (macro)\": make_scorer(precision_score, average='macro'),\n",
        "    \"Recall (macro)\": make_scorer(recall_score, average='macro'),\n",
        "}\n",
        "\n",
        "# 결과 저장\n",
        "results = {}  # 결과 저장용 딕셔너리\n",
        "\n",
        "# 결과 저장 및 출력\n",
        "for name, model in models.items():\n",
        "    print(f\"\\n {name}\")\n",
        "    results[name] = {}\n",
        "    for metric_name, scorer in scorers.items():\n",
        "        try:\n",
        "            score = cross_val_score(model, X_encoded, y, cv=5, scoring=scorer)\n",
        "            mean_score = score.mean()\n",
        "            results[name][metric_name] = mean_score\n",
        "            print(f\"{metric_name}: {mean_score:.4f}\")\n",
        "        except Exception as e:\n",
        "            print(f\"{metric_name} 실패: {e}\")\n",
        "    print(\"-\" * 50)"
      ],
      "metadata": {
        "colab": {
          "base_uri": "https://localhost:8080/"
        },
        "id": "TmZYl7GLMITH",
        "outputId": "3e8cb46b-8394-44c3-88b5-e37f4382063a"
      },
      "execution_count": 21,
      "outputs": [
        {
          "output_type": "stream",
          "name": "stdout",
          "text": [
            "\n",
            " RandomForest\n",
            "Accuracy: 0.9548\n",
            "F1 (macro): 0.9541\n",
            "Precision (macro): 0.9618\n",
            "Recall (macro): 0.9549\n",
            "--------------------------------------------------\n"
          ]
        }
      ]
    },
    {
      "cell_type": "code",
      "source": [
        "from sklearn.model_selection import GridSearchCV\n",
        "from sklearn.ensemble import RandomForestClassifier\n",
        "\n",
        "# 파라미터 후보 정의\n",
        "param_grid = {\n",
        "    \"n_estimators\": [100, 200],          # 트리 개수\n",
        "    \"max_depth\": [None, 10, 20],         # 트리 최대 깊이\n",
        "    \"min_samples_split\": [2, 5],         # 내부 노드를 분할하기 위한 최소 샘플 수\n",
        "    \"min_samples_leaf\": [1, 2],          # 리프 노드가 되기 위한 최소 샘플 수\n",
        "    \"max_features\": [\"sqrt\", \"log2\"]     # 각 분할에서 고려할 최대 피처 수\n",
        "}\n",
        "\n",
        "# 모델 정의\n",
        "rf = RandomForestClassifier(random_state=42)\n",
        "\n",
        "# GridSearchCV 설정\n",
        "grid_search = GridSearchCV(\n",
        "    estimator=rf,\n",
        "    param_grid=param_grid,\n",
        "    scoring=\"f1_macro\",  # F1-score 기준으로 평가\n",
        "    cv=5,\n",
        "    n_jobs=-1,\n",
        "    verbose=2\n",
        ")\n",
        "\n",
        "# 학습\n",
        "grid_search.fit(X_encoded, y)\n",
        "\n",
        "# 결과 출력\n",
        "print(\"Best Parameters:\", grid_search.best_params_)\n",
        "print(\"Best Cross-Validation Accuracy:\", grid_search.best_score_)"
      ],
      "metadata": {
        "colab": {
          "base_uri": "https://localhost:8080/"
        },
        "id": "Bdjg5KtqMJji",
        "outputId": "fc4596ee-fd8c-41a5-c17c-4f4226be820c"
      },
      "execution_count": 22,
      "outputs": [
        {
          "output_type": "stream",
          "name": "stdout",
          "text": [
            "Fitting 5 folds for each of 48 candidates, totalling 240 fits\n",
            "Best Parameters: {'max_depth': None, 'max_features': 'sqrt', 'min_samples_leaf': 1, 'min_samples_split': 2, 'n_estimators': 200}\n",
            "Best Cross-Validation Accuracy: 0.9547542742197168\n"
          ]
        }
      ]
    },
    {
      "cell_type": "code",
      "source": [
        "import pandas as pd\n",
        "\n",
        "# 결과 딕셔너리를 데이터프레임으로 변환\n",
        "results_df = pd.DataFrame(results).T  # 모델 이름이 index로, 지표가 column으로\n",
        "results_df = results_df.round(4)\n",
        "display(results_df)"
      ],
      "metadata": {
        "colab": {
          "base_uri": "https://localhost:8080/",
          "height": 89
        },
        "id": "TyK1iEhoMKlB",
        "outputId": "9e31cd0a-9e97-4ff8-b3c6-071143fd67a2"
      },
      "execution_count": 23,
      "outputs": [
        {
          "output_type": "display_data",
          "data": {
            "text/plain": [
              "              Accuracy  F1 (macro)  Precision (macro)  Recall (macro)\n",
              "RandomForest    0.9548      0.9541             0.9618          0.9549"
            ],
            "text/html": [
              "\n",
              "  <div id=\"df-de2d19b3-4b8b-4544-a4e1-ded950b3cc7c\" class=\"colab-df-container\">\n",
              "    <div>\n",
              "<style scoped>\n",
              "    .dataframe tbody tr th:only-of-type {\n",
              "        vertical-align: middle;\n",
              "    }\n",
              "\n",
              "    .dataframe tbody tr th {\n",
              "        vertical-align: top;\n",
              "    }\n",
              "\n",
              "    .dataframe thead th {\n",
              "        text-align: right;\n",
              "    }\n",
              "</style>\n",
              "<table border=\"1\" class=\"dataframe\">\n",
              "  <thead>\n",
              "    <tr style=\"text-align: right;\">\n",
              "      <th></th>\n",
              "      <th>Accuracy</th>\n",
              "      <th>F1 (macro)</th>\n",
              "      <th>Precision (macro)</th>\n",
              "      <th>Recall (macro)</th>\n",
              "    </tr>\n",
              "  </thead>\n",
              "  <tbody>\n",
              "    <tr>\n",
              "      <th>RandomForest</th>\n",
              "      <td>0.9548</td>\n",
              "      <td>0.9541</td>\n",
              "      <td>0.9618</td>\n",
              "      <td>0.9549</td>\n",
              "    </tr>\n",
              "  </tbody>\n",
              "</table>\n",
              "</div>\n",
              "    <div class=\"colab-df-buttons\">\n",
              "\n",
              "  <div class=\"colab-df-container\">\n",
              "    <button class=\"colab-df-convert\" onclick=\"convertToInteractive('df-de2d19b3-4b8b-4544-a4e1-ded950b3cc7c')\"\n",
              "            title=\"Convert this dataframe to an interactive table.\"\n",
              "            style=\"display:none;\">\n",
              "\n",
              "  <svg xmlns=\"http://www.w3.org/2000/svg\" height=\"24px\" viewBox=\"0 -960 960 960\">\n",
              "    <path d=\"M120-120v-720h720v720H120Zm60-500h600v-160H180v160Zm220 220h160v-160H400v160Zm0 220h160v-160H400v160ZM180-400h160v-160H180v160Zm440 0h160v-160H620v160ZM180-180h160v-160H180v160Zm440 0h160v-160H620v160Z\"/>\n",
              "  </svg>\n",
              "    </button>\n",
              "\n",
              "  <style>\n",
              "    .colab-df-container {\n",
              "      display:flex;\n",
              "      gap: 12px;\n",
              "    }\n",
              "\n",
              "    .colab-df-convert {\n",
              "      background-color: #E8F0FE;\n",
              "      border: none;\n",
              "      border-radius: 50%;\n",
              "      cursor: pointer;\n",
              "      display: none;\n",
              "      fill: #1967D2;\n",
              "      height: 32px;\n",
              "      padding: 0 0 0 0;\n",
              "      width: 32px;\n",
              "    }\n",
              "\n",
              "    .colab-df-convert:hover {\n",
              "      background-color: #E2EBFA;\n",
              "      box-shadow: 0px 1px 2px rgba(60, 64, 67, 0.3), 0px 1px 3px 1px rgba(60, 64, 67, 0.15);\n",
              "      fill: #174EA6;\n",
              "    }\n",
              "\n",
              "    .colab-df-buttons div {\n",
              "      margin-bottom: 4px;\n",
              "    }\n",
              "\n",
              "    [theme=dark] .colab-df-convert {\n",
              "      background-color: #3B4455;\n",
              "      fill: #D2E3FC;\n",
              "    }\n",
              "\n",
              "    [theme=dark] .colab-df-convert:hover {\n",
              "      background-color: #434B5C;\n",
              "      box-shadow: 0px 1px 3px 1px rgba(0, 0, 0, 0.15);\n",
              "      filter: drop-shadow(0px 1px 2px rgba(0, 0, 0, 0.3));\n",
              "      fill: #FFFFFF;\n",
              "    }\n",
              "  </style>\n",
              "\n",
              "    <script>\n",
              "      const buttonEl =\n",
              "        document.querySelector('#df-de2d19b3-4b8b-4544-a4e1-ded950b3cc7c button.colab-df-convert');\n",
              "      buttonEl.style.display =\n",
              "        google.colab.kernel.accessAllowed ? 'block' : 'none';\n",
              "\n",
              "      async function convertToInteractive(key) {\n",
              "        const element = document.querySelector('#df-de2d19b3-4b8b-4544-a4e1-ded950b3cc7c');\n",
              "        const dataTable =\n",
              "          await google.colab.kernel.invokeFunction('convertToInteractive',\n",
              "                                                    [key], {});\n",
              "        if (!dataTable) return;\n",
              "\n",
              "        const docLinkHtml = 'Like what you see? Visit the ' +\n",
              "          '<a target=\"_blank\" href=https://colab.research.google.com/notebooks/data_table.ipynb>data table notebook</a>'\n",
              "          + ' to learn more about interactive tables.';\n",
              "        element.innerHTML = '';\n",
              "        dataTable['output_type'] = 'display_data';\n",
              "        await google.colab.output.renderOutput(dataTable, element);\n",
              "        const docLink = document.createElement('div');\n",
              "        docLink.innerHTML = docLinkHtml;\n",
              "        element.appendChild(docLink);\n",
              "      }\n",
              "    </script>\n",
              "  </div>\n",
              "\n",
              "\n",
              "  <div id=\"id_9966f614-9c45-4f80-847c-aee8a6436c0e\">\n",
              "    <style>\n",
              "      .colab-df-generate {\n",
              "        background-color: #E8F0FE;\n",
              "        border: none;\n",
              "        border-radius: 50%;\n",
              "        cursor: pointer;\n",
              "        display: none;\n",
              "        fill: #1967D2;\n",
              "        height: 32px;\n",
              "        padding: 0 0 0 0;\n",
              "        width: 32px;\n",
              "      }\n",
              "\n",
              "      .colab-df-generate:hover {\n",
              "        background-color: #E2EBFA;\n",
              "        box-shadow: 0px 1px 2px rgba(60, 64, 67, 0.3), 0px 1px 3px 1px rgba(60, 64, 67, 0.15);\n",
              "        fill: #174EA6;\n",
              "      }\n",
              "\n",
              "      [theme=dark] .colab-df-generate {\n",
              "        background-color: #3B4455;\n",
              "        fill: #D2E3FC;\n",
              "      }\n",
              "\n",
              "      [theme=dark] .colab-df-generate:hover {\n",
              "        background-color: #434B5C;\n",
              "        box-shadow: 0px 1px 3px 1px rgba(0, 0, 0, 0.15);\n",
              "        filter: drop-shadow(0px 1px 2px rgba(0, 0, 0, 0.3));\n",
              "        fill: #FFFFFF;\n",
              "      }\n",
              "    </style>\n",
              "    <button class=\"colab-df-generate\" onclick=\"generateWithVariable('results_df')\"\n",
              "            title=\"Generate code using this dataframe.\"\n",
              "            style=\"display:none;\">\n",
              "\n",
              "  <svg xmlns=\"http://www.w3.org/2000/svg\" height=\"24px\"viewBox=\"0 0 24 24\"\n",
              "       width=\"24px\">\n",
              "    <path d=\"M7,19H8.4L18.45,9,17,7.55,7,17.6ZM5,21V16.75L18.45,3.32a2,2,0,0,1,2.83,0l1.4,1.43a1.91,1.91,0,0,1,.58,1.4,1.91,1.91,0,0,1-.58,1.4L9.25,21ZM18.45,9,17,7.55Zm-12,3A5.31,5.31,0,0,0,4.9,8.1,5.31,5.31,0,0,0,1,6.5,5.31,5.31,0,0,0,4.9,4.9,5.31,5.31,0,0,0,6.5,1,5.31,5.31,0,0,0,8.1,4.9,5.31,5.31,0,0,0,12,6.5,5.46,5.46,0,0,0,6.5,12Z\"/>\n",
              "  </svg>\n",
              "    </button>\n",
              "    <script>\n",
              "      (() => {\n",
              "      const buttonEl =\n",
              "        document.querySelector('#id_9966f614-9c45-4f80-847c-aee8a6436c0e button.colab-df-generate');\n",
              "      buttonEl.style.display =\n",
              "        google.colab.kernel.accessAllowed ? 'block' : 'none';\n",
              "\n",
              "      buttonEl.onclick = () => {\n",
              "        google.colab.notebook.generateWithVariable('results_df');\n",
              "      }\n",
              "      })();\n",
              "    </script>\n",
              "  </div>\n",
              "\n",
              "    </div>\n",
              "  </div>\n"
            ],
            "application/vnd.google.colaboratory.intrinsic+json": {
              "type": "dataframe",
              "variable_name": "results_df",
              "summary": "{\n  \"name\": \"results_df\",\n  \"rows\": 1,\n  \"fields\": [\n    {\n      \"column\": \"Accuracy\",\n      \"properties\": {\n        \"dtype\": \"number\",\n        \"std\": null,\n        \"min\": 0.9548,\n        \"max\": 0.9548,\n        \"num_unique_values\": 1,\n        \"samples\": [\n          0.9548\n        ],\n        \"semantic_type\": \"\",\n        \"description\": \"\"\n      }\n    },\n    {\n      \"column\": \"F1 (macro)\",\n      \"properties\": {\n        \"dtype\": \"number\",\n        \"std\": null,\n        \"min\": 0.9541,\n        \"max\": 0.9541,\n        \"num_unique_values\": 1,\n        \"samples\": [\n          0.9541\n        ],\n        \"semantic_type\": \"\",\n        \"description\": \"\"\n      }\n    },\n    {\n      \"column\": \"Precision (macro)\",\n      \"properties\": {\n        \"dtype\": \"number\",\n        \"std\": null,\n        \"min\": 0.9618,\n        \"max\": 0.9618,\n        \"num_unique_values\": 1,\n        \"samples\": [\n          0.9618\n        ],\n        \"semantic_type\": \"\",\n        \"description\": \"\"\n      }\n    },\n    {\n      \"column\": \"Recall (macro)\",\n      \"properties\": {\n        \"dtype\": \"number\",\n        \"std\": null,\n        \"min\": 0.9549,\n        \"max\": 0.9549,\n        \"num_unique_values\": 1,\n        \"samples\": [\n          0.9549\n        ],\n        \"semantic_type\": \"\",\n        \"description\": \"\"\n      }\n    }\n  ]\n}"
            }
          },
          "metadata": {}
        }
      ]
    },
    {
      "cell_type": "code",
      "source": [
        "from sklearn.metrics import confusion_matrix, ConfusionMatrixDisplay\n",
        "from sklearn.model_selection import train_test_split\n",
        "import matplotlib.pyplot as plt\n",
        "\n",
        "# 예측 대상 라벨 다시 1~5로\n",
        "y_adjusted = y + 1\n",
        "\n",
        "# 데이터 분할\n",
        "X_train, X_test, y_train, y_test = train_test_split(X_encoded, y_adjusted, test_size=0.2, random_state=42)\n",
        "\n",
        "# 모델 학습 및 예측\n",
        "rf_model = RandomForestClassifier(random_state=42)\n",
        "rf_model.fit(X_train, y_train)\n",
        "y_pred = rf_model.predict(X_test)\n",
        "\n",
        "# 혼동 행렬\n",
        "cm = confusion_matrix(y_test, y_pred)\n",
        "\n",
        "# 유니크한 라벨 자동 추출\n",
        "labels = sorted(list(set(y_test) | set(y_pred)))\n",
        "\n",
        "# 시각화\n",
        "plt.figure(figsize=(6, 5))\n",
        "disp = ConfusionMatrixDisplay(confusion_matrix=cm, display_labels=labels)\n",
        "disp.plot(cmap=\"Blues\", values_format='d')\n",
        "plt.title(\"Confusion Matrix (RandomForest Classifier)\")\n",
        "plt.tight_layout()\n",
        "plt.show()"
      ],
      "metadata": {
        "colab": {
          "base_uri": "https://localhost:8080/",
          "height": 505
        },
        "id": "ehlBPtiRML16",
        "outputId": "4e592fcb-3f74-40af-c9c2-e0e5555e243b"
      },
      "execution_count": 24,
      "outputs": [
        {
          "output_type": "display_data",
          "data": {
            "text/plain": [
              "<Figure size 600x500 with 0 Axes>"
            ]
          },
          "metadata": {}
        },
        {
          "output_type": "display_data",
          "data": {
            "text/plain": [
              "<Figure size 640x480 with 2 Axes>"
            ],
            "image/png": "[encoded data removed]"
          },
          "metadata": {}
        }
      ]
    },
    {
      "cell_type": "markdown",
      "source": [
        "## requirements.txt"
      ],
      "metadata": {
        "id": "R9UcEvTKNu3Q"
      }
    },
    {
      "cell_type": "code",
      "source": [
        "import numpy\n",
        "import pandas\n",
        "import matplotlib\n",
        "import seaborn\n",
        "import xgboost\n",
        "import sklearn\n",
        "import lightgbm\n",
        "import kagglehub\n",
        "import imblearn\n",
        "\n",
        "versions = {\n",
        "    \"numpy\": numpy.__version__,\n",
        "    \"pandas\": pandas.__version__,\n",
        "    \"matplotlib\": matplotlib.__version__,\n",
        "    \"seaborn\": seaborn.__version__,\n",
        "    \"xgboost\": xgboost.__version__,\n",
        "    \"scikit-learn\": sklearn.__version__,\n",
        "    \"lightgbm\": lightgbm.__version__,\n",
        "    \"kagglehub\": kagglehub.__version__,\n",
        "    \"imbalanced-learn\": imblearn.__version__,\n",
        "}\n",
        "\n",
        "with open(\"requirements.txt\", \"w\") as f:\n",
        "    for pkg, ver in versions.items():\n",
        "        f.write(f\"{pkg}=={ver}\\n\")\n",
        "\n",
        "print(\"✅ requirements.txt 파일 생성 완료\")"
      ],
      "metadata": {
        "colab": {
          "base_uri": "https://localhost:8080/"
        },
        "id": "JbSqa1ZSNumA",
        "outputId": "4e9dfdd3-682a-47c3-a5d2-b9f402c29334"
      },
      "execution_count": 25,
      "outputs": [
        {
          "output_type": "stream",
          "name": "stdout",
          "text": [
            "✅ requirements.txt 파일 생성 완료\n"
          ]
        }
      ]
    }
  ]
}